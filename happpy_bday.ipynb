{
  "nbformat": 4,
  "nbformat_minor": 0,
  "metadata": {
    "colab": {
      "provenance": []
    },
    "kernelspec": {
      "name": "python3",
      "display_name": "Python 3"
    },
    "language_info": {
      "name": "python"
    }
  },
  "cells": [
    {
      "cell_type": "code",
      "execution_count": 11,
      "metadata": {
        "colab": {
          "base_uri": "https://localhost:8080/",
          "height": 36
        },
        "id": "CBl1TEGdEpKh",
        "outputId": "cc64ffba-47cb-4561-d635-def9e320c361"
      },
      "outputs": [
        {
          "output_type": "execute_result",
          "data": {
            "text/plain": [
              "'/content/bright_birthday_invitation.html'"
            ],
            "application/vnd.google.colaboratory.intrinsic+json": {
              "type": "string"
            }
          },
          "metadata": {},
          "execution_count": 11
        }
      ],
      "source": [
        "# Step 1: Create a super vibrant birthday invitation\n",
        "html_content = \"\"\"\n",
        "<!DOCTYPE html>\n",
        "<html lang=\"en\">\n",
        "<head>\n",
        "<meta charset=\"UTF-8\">\n",
        "<meta name=\"viewport\" content=\"width=device-width, initial-scale=1.0\">\n",
        "<title>Birthday Invitation</title>\n",
        "<style>\n",
        "@import url('https://fonts.googleapis.com/css2?family=Pacifico&display=swap');\n",
        "\n",
        "body {\n",
        "    font-family: 'Arial', sans-serif;\n",
        "    margin: 0;\n",
        "    padding: 0;\n",
        "    background: linear-gradient(135deg, #fbc2eb, #a6c1ee);\n",
        "    overflow-x: hidden;\n",
        "}\n",
        "\n",
        "/* Invitation container */\n",
        ".container {\n",
        "    background-color: rgba(255, 255, 255, 0.9);\n",
        "    border-radius: 25px;\n",
        "    padding: 40px 30px;\n",
        "    max-width: 650px;\n",
        "    margin: 100px auto;\n",
        "    box-shadow: 0 10px 30px rgba(0,0,0,0.5);\n",
        "    border: 3px solid #ff69b4;\n",
        "    text-align: center;\n",
        "    position: relative;\n",
        "    z-index: 10;\n",
        "}\n",
        "\n",
        "/* Titles */\n",
        "h1 {\n",
        "    font-family: 'Pacifico', cursive;\n",
        "    font-size: 3.5em;\n",
        "    margin-bottom: 15px;\n",
        "    color: #ff1493;\n",
        "    text-shadow: 2px 2px 10px #fff;\n",
        "}\n",
        "\n",
        "h2 {\n",
        "    font-size: 2.5em;\n",
        "    margin: 10px 0;\n",
        "    color: #ff4500;\n",
        "    text-shadow: 2px 2px 8px #fff;\n",
        "}\n",
        "\n",
        ".details {\n",
        "    font-size: 1.3em;\n",
        "    margin: 8px 0;\n",
        "    color: #000;\n",
        "}\n",
        "\n",
        ".footer {\n",
        "    margin-top: 25px;\n",
        "    font-size: 1.2em;\n",
        "    font-weight: bold;\n",
        "    color: #ff69b4;\n",
        "}\n",
        "\n",
        "/* Floating birthday elements */\n",
        ".birthday-img {\n",
        "    position: absolute;\n",
        "    width: 60px;\n",
        "    animation: float 6s infinite ease-in-out;\n",
        "}\n",
        "\n",
        "@keyframes float {\n",
        "    0% { transform: translateY(0) rotate(0deg); }\n",
        "    50% { transform: translateY(-200px) rotate(20deg); }\n",
        "    100% { transform: translateY(0) rotate(-20deg); }\n",
        "}\n",
        "\n",
        "/* Confetti animation */\n",
        ".confetti {\n",
        "  position: fixed;\n",
        "  width: 12px;\n",
        "  height: 12px;\n",
        "  background-color: #ff69b4;\n",
        "  top: -10px;\n",
        "  animation: drop 3s infinite linear;\n",
        "}\n",
        "\n",
        "@keyframes drop {\n",
        "  0% { transform: translateY(0) rotate(0deg); }\n",
        "  100% { transform: translateY(100vh) rotate(360deg); }\n",
        "}\n",
        "</style>\n",
        "</head>\n",
        "<body>\n",
        "\n",
        "<!-- Floating birthday images -->\n",
        "<img src=\"https://i.ibb.co/Q9yvX1K/cake.png\" class=\"birthday-img\" style=\"left: 5%; animation-delay: 0s;\">\n",
        "<img src=\"https://i.ibb.co/FnG5kXx/balloon.png\" class=\"birthday-img\" style=\"left: 80%; animation-delay: 2s;\">\n",
        "<img src=\"https://i.ibb.co/Dr0ZB1q/chocolate.png\" class=\"birthday-img\" style=\"left: 50%; animation-delay: 1s;\">\n",
        "\n",
        "<!-- Invitation text -->\n",
        "<div class=\"container\">\n",
        "    <h1>🎉 You’re Invited! 🎉</h1>\n",
        "    <p class=\"details\">Come celebrate the birthday of</p>\n",
        "    <h2>Shristi Guragain 🎂</h2>\n",
        "    <p class=\"details\">🗓 Date: Tuesday, 8th October 2000</p>\n",
        "    <p class=\"details\">🕗 Time: 8 pm onwards</p>\n",
        "    <p class=\"details\">📍 Location: Kamal-3, Kerkha, Jhapa</p>\n",
        "    <p class=\"details\">📞 Contact: 9899581657</p>\n",
        "    <p class=\"footer\">Fun, Food, Cake & Surprises Await! 🎈🎁🍫</p>\n",
        "</div>\n",
        "\n",
        "<!-- Confetti effect -->\n",
        "<script>\n",
        "for(let i=0;i<150;i++){\n",
        "    let confetti = document.createElement('div');\n",
        "    confetti.classList.add('confetti');\n",
        "    confetti.style.left = Math.random()*100 + 'vw';\n",
        "    confetti.style.backgroundColor = 'hsl(' + Math.random()*360 + ', 100%, 50%)';\n",
        "    confetti.style.animationDuration = (Math.random()*3 + 2) + 's';\n",
        "    document.body.appendChild(confetti);\n",
        "}\n",
        "</script>\n",
        "\n",
        "<!-- Background music -->\n",
        "<audio autoplay loop>\n",
        "    <source src=\"https://www.soundhelix.com/examples/mp3/SoundHelix-Song-1.mp3\" type=\"audio/mpeg\">\n",
        "</audio>\n",
        "\n",
        "</body>\n",
        "</html>\n",
        "\"\"\"\n",
        "\n",
        "# Step 2: Save the HTML file\n",
        "file_path = \"/content/bright_birthday_invitation.html\"\n",
        "with open(file_path, \"w\") as file:\n",
        "    file.write(html_content)\n",
        "\n",
        "file_path\n"
      ]
    },
    {
      "cell_type": "code",
      "source": [
        "from google.colab import files\n",
        "files.download('/content/bright_birthday_invitation.html')\n",
        "\n",
        "\n"
      ],
      "metadata": {
        "colab": {
          "base_uri": "https://localhost:8080/",
          "height": 17
        },
        "id": "Lqj7-tVbGAvb",
        "outputId": "72301fc5-33c9-4754-be19-364408a64851"
      },
      "execution_count": 12,
      "outputs": [
        {
          "output_type": "display_data",
          "data": {
            "text/plain": [
              "<IPython.core.display.Javascript object>"
            ],
            "application/javascript": [
              "\n",
              "    async function download(id, filename, size) {\n",
              "      if (!google.colab.kernel.accessAllowed) {\n",
              "        return;\n",
              "      }\n",
              "      const div = document.createElement('div');\n",
              "      const label = document.createElement('label');\n",
              "      label.textContent = `Downloading \"${filename}\": `;\n",
              "      div.appendChild(label);\n",
              "      const progress = document.createElement('progress');\n",
              "      progress.max = size;\n",
              "      div.appendChild(progress);\n",
              "      document.body.appendChild(div);\n",
              "\n",
              "      const buffers = [];\n",
              "      let downloaded = 0;\n",
              "\n",
              "      const channel = await google.colab.kernel.comms.open(id);\n",
              "      // Send a message to notify the kernel that we're ready.\n",
              "      channel.send({})\n",
              "\n",
              "      for await (const message of channel.messages) {\n",
              "        // Send a message to notify the kernel that we're ready.\n",
              "        channel.send({})\n",
              "        if (message.buffers) {\n",
              "          for (const buffer of message.buffers) {\n",
              "            buffers.push(buffer);\n",
              "            downloaded += buffer.byteLength;\n",
              "            progress.value = downloaded;\n",
              "          }\n",
              "        }\n",
              "      }\n",
              "      const blob = new Blob(buffers, {type: 'application/binary'});\n",
              "      const a = document.createElement('a');\n",
              "      a.href = window.URL.createObjectURL(blob);\n",
              "      a.download = filename;\n",
              "      div.appendChild(a);\n",
              "      a.click();\n",
              "      div.remove();\n",
              "    }\n",
              "  "
            ]
          },
          "metadata": {}
        },
        {
          "output_type": "display_data",
          "data": {
            "text/plain": [
              "<IPython.core.display.Javascript object>"
            ],
            "application/javascript": [
              "download(\"download_af7a3875-447a-49cb-88e7-bf6b0a57a702\", \"bright_birthday_invitation.html\", 3265)"
            ]
          },
          "metadata": {}
        }
      ]
    },
    {
      "cell_type": "code",
      "source": [
        "from IPython.core.display import display, HTML\n",
        "\n",
        "# Display the invitation directly in Colab\n",
        "with open('/content/birthday_invitation.html', 'r') as file:\n",
        "    display(HTML(file.read()))\n"
      ],
      "metadata": {
        "colab": {
          "base_uri": "https://localhost:8080/",
          "height": 522
        },
        "id": "IN6IDlbOGFer",
        "outputId": "c758223b-6332-4402-ab1c-155ab81e6b85"
      },
      "execution_count": 13,
      "outputs": [
        {
          "output_type": "display_data",
          "data": {
            "text/plain": [
              "<IPython.core.display.HTML object>"
            ],
            "text/html": [
              "\n",
              "<!DOCTYPE html>\n",
              "<html lang=\"en\">\n",
              "<head>\n",
              "    <meta charset=\"UTF-8\">\n",
              "    <meta name=\"viewport\" content=\"width=device-width, initial-scale=1.0\">\n",
              "    <title>Birthday Invitation</title>\n",
              "    <style>\n",
              "        @import url('https://fonts.googleapis.com/css2?family=Pacifico&display=swap');\n",
              "        body {\n",
              "            font-family: 'Arial', sans-serif;\n",
              "            background: url('https://images.unsplash.com/photo-1617196034771-6e7a4732372b?auto=format&fit=crop&w=1470&q=80') no-repeat center center fixed;\n",
              "            background-size: cover;\n",
              "            color: #fff;\n",
              "            text-align: center;\n",
              "            padding: 50px 20px;\n",
              "        }\n",
              "        .container {\n",
              "            background-color: rgba(0, 0, 0, 0.6);\n",
              "            border-radius: 25px;\n",
              "            padding: 40px 30px;\n",
              "            max-width: 600px;\n",
              "            margin: auto;\n",
              "            box-shadow: 0 8px 20px rgba(0,0,0,0.5);\n",
              "            border: 2px solid #fff;\n",
              "        }\n",
              "        h1 {\n",
              "            font-family: 'Pacifico', cursive;\n",
              "            font-size: 3em;\n",
              "            margin-bottom: 15px;\n",
              "            text-shadow: 2px 2px 8px #000;\n",
              "        }\n",
              "        h2 {\n",
              "            font-size: 2.2em;\n",
              "            margin: 10px 0;\n",
              "            text-shadow: 1px 1px 6px #000;\n",
              "        }\n",
              "        .details {\n",
              "            font-size: 1.3em;\n",
              "            margin: 8px 0;\n",
              "        }\n",
              "        .footer {\n",
              "            margin-top: 25px;\n",
              "            font-size: 1.1em;\n",
              "            opacity: 0.9;\n",
              "        }\n",
              "    </style>\n",
              "</head>\n",
              "<body>\n",
              "    <div class=\"container\">\n",
              "        <h1>🎉 You’re Invited! 🎉</h1>\n",
              "        <p class=\"details\">Join us in celebrating the birthday of</p>\n",
              "        <h2>Shristi Guragain 🎂</h2>\n",
              "        <p class=\"details\">🗓 Date: Tuesday, 8th October 2000</p>\n",
              "        <p class=\"details\">🕗 Time: 8 pm onwards</p>\n",
              "        <p class=\"details\">📍 Location: Kamal-3, Kerkha, Jhapa</p>\n",
              "        <p class=\"details\">📞 Contact: 9899581657</p>\n",
              "        <p class=\"footer\">Come join the fun, food, and festivities! 🎈🎁</p>\n",
              "    </div>\n",
              "</body>\n",
              "</html>\n"
            ]
          },
          "metadata": {}
        }
      ]
    }
  ]
}